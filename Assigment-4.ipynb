{
 "cells": [
  {
   "cell_type": "markdown",
   "metadata": {},
   "source": [
    "1.1 Write a Python Program(with class concepts) to find the area of the triangle using the below formula. \n",
    "\n",
    "area = (s*(s-a)*(s-b)*(s-c)) ** 0.5 \n",
    " \n",
    "Function to take the length of the sides of triangle from user should be defined in the parent class and function to calculate the area should be defined in subclass"
   ]
  },
  {
   "cell_type": "code",
   "execution_count": 1,
   "metadata": {},
   "outputs": [
    {
     "name": "stdout",
     "output_type": "stream",
     "text": [
      "Please provide the length of first side of a triangle24\n",
      "Please provide the length of second side of a triangle25\n",
      "Please provide the length of third side of a triangle18\n",
      "204.76678807853582\n"
     ]
    }
   ],
   "source": [
    "class Parentclass:\n",
    "    def LengthOfSidesOfTriangle(self):\n",
    "        values = [\"first\", \"second\", \"third\"]\n",
    "        sides = []\n",
    "        for index in values :\n",
    "            inputValue = input(\"Please provide the length of {} side of a triangle\".format(index))\n",
    "            sides.append(inputValue)\n",
    "        return sides\n",
    "\n",
    "class Subclass(Parentclass):\n",
    "    def AreaOfTriangle(self, lengthOfSideOfTriangle):\n",
    "        a = int(lengthOfSideOfTriangle[0])\n",
    "        b = int(lengthOfSideOfTriangle[1])\n",
    "        c = int(lengthOfSideOfTriangle[2])\n",
    "        \n",
    "        s = (a + b + c)/2\n",
    "        \n",
    "        area = (s*(s-a)*(s-b)*(s-c)) ** 0.5\n",
    "        print(area)\n",
    "        \n",
    "subclass = Subclass()\n",
    "lengthOfSideOfTriangle = subclass.LengthOfSidesOfTriangle()\n",
    "subclass.AreaOfTriangle(lengthOfSideOfTriangle)"
   ]
  },
  {
   "cell_type": "markdown",
   "metadata": {},
   "source": [
    "1.2 Write a function filter_long_words() that takes a list of words and an integer n and returns the list of words that are longer than n. "
   ]
  },
  {
   "cell_type": "code",
   "execution_count": 2,
   "metadata": {},
   "outputs": [
    {
     "name": "stdout",
     "output_type": "stream",
     "text": [
      "Please enter the words : Black,Blue,Red,Yellow\n",
      "Please enter an integer : 3\n"
     ]
    },
    {
     "data": {
      "text/plain": [
       "['Black', 'Blue', 'Yellow']"
      ]
     },
     "execution_count": 2,
     "metadata": {},
     "output_type": "execute_result"
    }
   ],
   "source": [
    "def filter_long_word():\n",
    "    \n",
    "    a=[]\n",
    "    words=input(\"Please enter the words : \")\n",
    "    num=int(input(\"Please enter an integer : \"))\n",
    "    x=words.split(\",\")\n",
    "    \n",
    "    for i in x:\n",
    "        \n",
    "        if len(i)>num:\n",
    "            a.append(i)\n",
    "    \n",
    "    \n",
    "    return a\n",
    "\n",
    "filter_long_word()"
   ]
  },
  {
   "cell_type": "markdown",
   "metadata": {},
   "source": [
    "2.1 Write a Python program using function concept that maps list of words into a list of integers representing the lengths of the corresponding words. \n",
    " \n",
    "Hint: If a list [ ab,cde,erty] is passed on to the python function output should come as [2,3,4] \n",
    " \n",
    "Here 2,3 and 4 are the lengths of the words in the list."
   ]
  },
  {
   "cell_type": "code",
   "execution_count": 3,
   "metadata": {},
   "outputs": [
    {
     "data": {
      "text/plain": [
       "[5, 4, 6, 3]"
      ]
     },
     "execution_count": 3,
     "metadata": {},
     "output_type": "execute_result"
    }
   ],
   "source": [
    "def wordlength(wordslist):\n",
    "    return len(wordslist)\n",
    "\n",
    "list(map(wordlength,['Black','Blue','Yellow','Red']))"
   ]
  },
  {
   "cell_type": "markdown",
   "metadata": {},
   "source": [
    "2.2 Write a Python function which takes a character (i.e. a string of length 1) and returns True if it is a vowel, False otherwise. "
   ]
  },
  {
   "cell_type": "code",
   "execution_count": 4,
   "metadata": {},
   "outputs": [
    {
     "name": "stdout",
     "output_type": "stream",
     "text": [
      "enter a characterB\n",
      "B is not a vowel\n"
     ]
    }
   ],
   "source": [
    "def is_vowel(char):\n",
    "    if(char=='a' or char=='A' or char=='e' or char=='E'\n",
    "       or char=='i' or char=='I' or char=='o' or char=='O'\n",
    "       or char=='u' or char=='U'):\n",
    "        print(char, \"is a vowel\")\n",
    "    else:\n",
    "        print(char, \"is not a vowel\")\n",
    "\n",
    "char=input(\"enter a character\")\n",
    "is_vowel(char)"
   ]
  },
  {
   "cell_type": "code",
   "execution_count": null,
   "metadata": {},
   "outputs": [],
   "source": []
  }
 ],
 "metadata": {
  "kernelspec": {
   "display_name": "Python 3",
   "language": "python",
   "name": "python3"
  },
  "language_info": {
   "codemirror_mode": {
    "name": "ipython",
    "version": 3
   },
   "file_extension": ".py",
   "mimetype": "text/x-python",
   "name": "python",
   "nbconvert_exporter": "python",
   "pygments_lexer": "ipython3",
   "version": "3.7.6"
  }
 },
 "nbformat": 4,
 "nbformat_minor": 4
}
